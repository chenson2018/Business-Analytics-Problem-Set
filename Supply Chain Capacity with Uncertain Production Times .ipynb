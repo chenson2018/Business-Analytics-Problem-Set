{
 "cells": [
  {
   "cell_type": "markdown",
   "metadata": {},
   "source": [
    "# Question 2 - Supply Chain Capacity with Uncertain Production Times \n",
    "\n",
    "__Q2.1__\n",
    "\n",
    "Suppose that at the end of a production process there are three remaining sequential steps with the following specifications:\n",
    "\n",
    "- Step A: 20 minutes per unit\n",
    "- Step B: 60 minutes per unit\n",
    "- Step C: 40 minutes per unit\n",
    "\n",
    "Assume a work day of 8 hours, no transition time between steps, and that there is always a unit to be supplied to step A. How units will be completed per day?"
   ]
  },
  {
   "cell_type": "markdown",
   "metadata": {},
   "source": [
    "Answer:\n",
    "\n",
    "A bottleneck is obviously created by step B. We may complete a total of seven units within eight hours as:\n",
    "\n",
    "$$\n",
    "20 + 60(7) + 40 = 480\n",
    "$$"
   ]
  },
  {
   "cell_type": "markdown",
   "metadata": {},
   "source": [
    "__Q2.2__\n",
    "\n",
    "Suppose that we have identified step B as our bottle neck, and have developed a new process for this step. Unfortunately, we discover that our new process only works sometimes. In particuliar, 30% of the time step B will be reduced to 50 minutes, while the other 70% of the time step B will remain at 60 minutes. Suppose that we decide to limit our production to exactly 7 units, what can we now say about the time required? Give an exact mathematical formulation"
   ]
  },
  {
   "cell_type": "markdown",
   "metadata": {},
   "source": [
    "Answer:\n",
    "\n",
    "This problem is determined by the binomial distribution:\n",
    "\n",
    "$$\n",
    "\\Pr(0\\text{ success}) = \\Pr(\\text{480 minutes}) = {7\\choose 0}0.3^0 (1-0.3)^{7-0}\\\\\n",
    "\\Pr(1\\text{ success}) = \\Pr(\\text{470 minutes}) = {7\\choose 1}0.3^1 (1-0.3)^{7-1}\\\\\n",
    "\\Pr(2\\text{ success}) = \\Pr(\\text{460 minutes}) = {7\\choose 2}0.3^2 (1-0.3)^{7-2}\\\\\n",
    "\\Pr(3\\text{ success}) = \\Pr(\\text{450 minutes}) = {7\\choose 3}0.3^3 (1-0.3)^{7-3}\\\\\n",
    "\\Pr(4\\text{ success}) = \\Pr(\\text{440 minutes}) = {7\\choose 4}0.3^4 (1-0.3)^{7-4}\\\\\n",
    "\\Pr(5\\text{ success}) = \\Pr(\\text{430 minutes}) = {7\\choose 5}0.3^5 (1-0.3)^{7-5}\\\\\n",
    "\\Pr(6\\text{ success}) = \\Pr(\\text{420 minutes}) = {7\\choose 6}0.3^6 (1-0.3)^{7-6}\\\\\n",
    "\\Pr(7\\text{ success}) = \\Pr(\\text{410 minutes}) = {7\\choose 7}0.3^7 (1-0.3)^{7-7}\\\\\n",
    "$$"
   ]
  },
  {
   "cell_type": "markdown",
   "metadata": {},
   "source": [
    "__Q2.3__\n",
    "\n",
    "In the last question, we limited ourselves to only producing 7 units, as this was the maximum number of units before our improvement to step B. However, we can see the we could potentially produce an eight unit. If we have had 6 or 7 successes up until this point, we may freely begin another unit. Even if it takes the full 60 minutes, we have already saved enough time to garuentee we will finish this unit on time. Consider the case of five units however, where if we choose to produce an extra unit, we run the risk of the improved process failing...."
   ]
  },
  {
   "cell_type": "code",
   "execution_count": null,
   "metadata": {},
   "outputs": [],
   "source": []
  }
 ],
 "metadata": {
  "kernelspec": {
   "display_name": "Python 3",
   "language": "python",
   "name": "python3"
  },
  "language_info": {
   "codemirror_mode": {
    "name": "ipython",
    "version": 3
   },
   "file_extension": ".py",
   "mimetype": "text/x-python",
   "name": "python",
   "nbconvert_exporter": "python",
   "pygments_lexer": "ipython3",
   "version": "3.7.4"
  }
 },
 "nbformat": 4,
 "nbformat_minor": 2
}
