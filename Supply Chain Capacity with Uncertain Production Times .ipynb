{
 "cells": [
  {
   "cell_type": "markdown",
   "metadata": {},
   "source": [
    "# Question 2 - Supply Chain Capacity with Uncertain Production Times \n",
    "\n",
    "__Q2.1__\n",
    "\n",
    "Suppose that at the end of a production process there are three remaining sequential steps with the following specifications:\n",
    "\n",
    "- Step A: 20 minutes per unit\n",
    "- Step B: 60 minutes per unit\n",
    "- Step C: 40 minutes per unit\n",
    "\n",
    "Assume a work day of 8 hours, no transition time between steps, and that there is always a unit to be supplied to step A. How units will be completed per day?"
   ]
  },
  {
   "cell_type": "markdown",
   "metadata": {},
   "source": [
    "Answer:\n",
    "\n",
    "A bottleneck is obviously created by step B. We may complete a total of seven units within eight hours as:\n",
    "\n",
    "$$\n",
    "20 + 60(7) + 40 = 480\n",
    "$$"
   ]
  },
  {
   "cell_type": "markdown",
   "metadata": {},
   "source": [
    "__Q2.2__\n",
    "\n",
    "Suppose that we have identified step B as our bottle neck, and have developed a new process for this step. Unfortunately, we discover that our new process only works sometimes. In particuliar, 30% of the time step B will be reduced to 50 minutes, while the other 70% of the time step B will remain at 60 minutes. What can we now say about the capacity of the system? Give an exact mathematical formulation"
   ]
  },
  {
   "cell_type": "markdown",
   "metadata": {},
   "source": [
    "Answer:\n",
    "\n"
   ]
  }
 ],
 "metadata": {
  "kernelspec": {
   "display_name": "Python 3",
   "language": "python",
   "name": "python3"
  },
  "language_info": {
   "codemirror_mode": {
    "name": "ipython",
    "version": 3
   },
   "file_extension": ".py",
   "mimetype": "text/x-python",
   "name": "python",
   "nbconvert_exporter": "python",
   "pygments_lexer": "ipython3",
   "version": "3.7.4"
  }
 },
 "nbformat": 4,
 "nbformat_minor": 2
}
